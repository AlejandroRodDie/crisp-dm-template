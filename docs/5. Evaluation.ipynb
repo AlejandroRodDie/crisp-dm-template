{
 "cells": [
  {
   "cell_type": "markdown",
   "metadata": {
    "collapsed": true,
    "pycharm": {
     "name": "#%% md\n"
    }
   },
   "source": [
    "# Phase 5. Evaluation\n",
    "\n",
    "At this stage in the project, you have built a model (or models) that appears to have high quality from a data analysis\n",
    "perspective. Before proceeding to final deployment of the model, it is important to thoroughly evaluate it and review\n",
    "the steps executed to create it, to be certain the model properly achieves the business objectives. A key objective is\n",
    "to determine if there is some important business issue that has not been sufficiently considered. At the end of this\n",
    "phase, a decision on the use of the data mining results should be reached."
   ]
  }
 ],
 "metadata": {
  "kernelspec": {
   "display_name": "Python 3",
   "language": "python",
   "name": "python3"
  },
  "language_info": {
   "codemirror_mode": {
    "name": "ipython",
    "version": 2
   },
   "file_extension": ".py",
   "mimetype": "text/x-python",
   "name": "python",
   "nbconvert_exporter": "python",
   "pygments_lexer": "ipython2",
   "version": "2.7.6"
  }
 },
 "nbformat": 4,
 "nbformat_minor": 0
}