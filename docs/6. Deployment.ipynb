{
 "cells": [
  {
   "cell_type": "markdown",
   "metadata": {
    "collapsed": true,
    "pycharm": {
     "name": "#%% md\n"
    }
   },
   "source": [
    "# Phase 6. Deployment\n",
    "\n",
    "Creation of the model is generally not the end of the project. Even if the purpose of the model is to increase knowledge\n",
    "of the data, the knowledge gained will need to be organized and presented in a way that the customer can use it. It\n",
    "often involves applying “live” models within an organization’s decision making processes—for example, real-time\n",
    "personalization of Web pages or repeated scoring of marketing databases. Depending on the requirements, the\n",
    "deployment phase can be as simple as generating a report or as complex as implementing a repeatable data mining\n",
    "process across the enterprise. In many cases, it is the customer, not the data analyst, who carries out the deployment\n",
    "steps. However, even if the analyst will carry out the deployment effort, it is important for the customer to understand\n",
    "up front what actions need to be carried out in order to actually make use of the created models."
   ]
  }
 ],
 "metadata": {
  "kernelspec": {
   "display_name": "Python 3",
   "language": "python",
   "name": "python3"
  },
  "language_info": {
   "codemirror_mode": {
    "name": "ipython",
    "version": 2
   },
   "file_extension": ".py",
   "mimetype": "text/x-python",
   "name": "python",
   "nbconvert_exporter": "python",
   "pygments_lexer": "ipython2",
   "version": "2.7.6"
  }
 },
 "nbformat": 4,
 "nbformat_minor": 0
}