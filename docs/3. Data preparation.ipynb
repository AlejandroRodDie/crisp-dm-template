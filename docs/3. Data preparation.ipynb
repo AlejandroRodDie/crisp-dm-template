{
 "cells": [
  {
   "cell_type": "markdown",
   "source": [
    "# Phase 3. Data Preparation\n",
    "\n",
    "The data preparation phase covers all activities needed to construct the final dataset \\[data that will be fed into the\n",
    "modeling tool(s)\\] from the initial raw data. Data preparation tasks are likely to be performed multiple times and not\n",
    "in any prescribed order. Tasks include table, record, and attribute selection, as well as transformation and cleaning\n",
    "of data for modeling tools\n",
    "\n"
   ],
   "metadata": {
    "collapsed": false,
    "pycharm": {
     "name": "#%% md\n"
    }
   }
  }
 ],
 "metadata": {
  "kernelspec": {
   "display_name": "Python 3",
   "language": "python",
   "name": "python3"
  },
  "language_info": {
   "codemirror_mode": {
    "name": "ipython",
    "version": 2
   },
   "file_extension": ".py",
   "mimetype": "text/x-python",
   "name": "python",
   "nbconvert_exporter": "python",
   "pygments_lexer": "ipython2",
   "version": "2.7.6"
  }
 },
 "nbformat": 4,
 "nbformat_minor": 0
}