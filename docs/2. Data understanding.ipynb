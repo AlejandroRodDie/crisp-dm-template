{
 "cells": [
  {
   "cell_type": "markdown",
   "source": [
    "# Phase 2. Data Understanding\n",
    "\n",
    "The data understanding phase starts with initial data collection and proceeds with activities that enable you to\n",
    "become familiar with the data, identify data quality problems, discover first insights into the data, and/or detect\n",
    "interesting subsets to form hypotheses regarding hidden information.\n"
   ],
   "metadata": {
    "collapsed": false
   }
  }
 ],
 "metadata": {
  "kernelspec": {
   "display_name": "Python 3",
   "language": "python",
   "name": "python3"
  },
  "language_info": {
   "codemirror_mode": {
    "name": "ipython",
    "version": 2
   },
   "file_extension": ".py",
   "mimetype": "text/x-python",
   "name": "python",
   "nbconvert_exporter": "python",
   "pygments_lexer": "ipython2",
   "version": "2.7.6"
  }
 },
 "nbformat": 4,
 "nbformat_minor": 0
}